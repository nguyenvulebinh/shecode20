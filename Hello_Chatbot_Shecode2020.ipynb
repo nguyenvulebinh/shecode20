{
  "nbformat": 4,
  "nbformat_minor": 0,
  "metadata": {
    "colab": {
      "name": "Hello-Chatbot_Shecode2020.ipynb",
      "provenance": [],
      "collapsed_sections": []
    },
    "kernelspec": {
      "name": "python3",
      "display_name": "Python 3"
    }
  },
  "cells": [
    {
      "cell_type": "markdown",
      "metadata": {
        "id": "CMXm7tHCjgsY",
        "colab_type": "text"
      },
      "source": [
        "# Tạo chatbot đơn giản\n",
        "Hai hướng tiếp cận chính:\n",
        "\n",
        "- Retrieval based: Hướng tiếp cận này sẽ truy vấn câu trả lời từ một tập các câu trả lời được định nghĩa trước. Không yêu cầu hiểu câu ý nghĩa của câu.\n",
        "\n",
        "- Task oriented: Yêu cầu hiểu ý nghĩa của câu (ý định và các thực thể trong câu) để xử lý riêng cho từng trường hợp."
      ]
    },
    {
      "cell_type": "markdown",
      "metadata": {
        "id": "o7sFAqxEj7TS",
        "colab_type": "text"
      },
      "source": [
        "## Cài đặt các thư viện cần thiết"
      ]
    },
    {
      "cell_type": "code",
      "metadata": {
        "id": "QRHB-BqBkrTN",
        "colab_type": "code",
        "colab": {
          "base_uri": "https://localhost:8080/",
          "height": 272
        },
        "outputId": "41a0cba6-1e7f-45a4-c2bc-bc6fa1c3bd50"
      },
      "source": [
        "!pip install nltk\n",
        "!pip install scikit-learn\n",
        "!pip install wit"
      ],
      "execution_count": null,
      "outputs": [
        {
          "output_type": "stream",
          "text": [
            "Requirement already satisfied: nltk in /usr/local/lib/python3.6/dist-packages (3.2.5)\n",
            "Requirement already satisfied: six in /usr/local/lib/python3.6/dist-packages (from nltk) (1.15.0)\n",
            "Requirement already satisfied: scikit-learn in /usr/local/lib/python3.6/dist-packages (0.22.2.post1)\n",
            "Requirement already satisfied: joblib>=0.11 in /usr/local/lib/python3.6/dist-packages (from scikit-learn) (0.16.0)\n",
            "Requirement already satisfied: numpy>=1.11.0 in /usr/local/lib/python3.6/dist-packages (from scikit-learn) (1.18.5)\n",
            "Requirement already satisfied: scipy>=0.17.0 in /usr/local/lib/python3.6/dist-packages (from scikit-learn) (1.4.1)\n",
            "Requirement already satisfied: wit in /usr/local/lib/python3.6/dist-packages (6.0.0)\n",
            "Requirement already satisfied: prompt-toolkit in /usr/local/lib/python3.6/dist-packages (from wit) (1.0.18)\n",
            "Requirement already satisfied: requests>=0.8.8 in /usr/local/lib/python3.6/dist-packages (from wit) (2.23.0)\n",
            "Requirement already satisfied: wcwidth in /usr/local/lib/python3.6/dist-packages (from prompt-toolkit->wit) (0.2.5)\n",
            "Requirement already satisfied: six>=1.9.0 in /usr/local/lib/python3.6/dist-packages (from prompt-toolkit->wit) (1.15.0)\n",
            "Requirement already satisfied: idna<3,>=2.5 in /usr/local/lib/python3.6/dist-packages (from requests>=0.8.8->wit) (2.10)\n",
            "Requirement already satisfied: urllib3!=1.25.0,!=1.25.1,<1.26,>=1.21.1 in /usr/local/lib/python3.6/dist-packages (from requests>=0.8.8->wit) (1.24.3)\n",
            "Requirement already satisfied: chardet<4,>=3.0.2 in /usr/local/lib/python3.6/dist-packages (from requests>=0.8.8->wit) (3.0.4)\n",
            "Requirement already satisfied: certifi>=2017.4.17 in /usr/local/lib/python3.6/dist-packages (from requests>=0.8.8->wit) (2020.6.20)\n"
          ],
          "name": "stdout"
        }
      ]
    },
    {
      "cell_type": "markdown",
      "metadata": {
        "id": "38zf5XgTkOmP",
        "colab_type": "text"
      },
      "source": [
        "## Import các thư viện cần thiết"
      ]
    },
    {
      "cell_type": "code",
      "metadata": {
        "id": "yFG4W6lpi7pu",
        "colab_type": "code",
        "colab": {
          "base_uri": "https://localhost:8080/",
          "height": 68
        },
        "outputId": "59af1c2d-e365-435b-9c58-a0f1cb441229"
      },
      "source": [
        "import nltk\n",
        "import numpy as np\n",
        "import io # read input write output\n",
        "import random # generate random numbers\n",
        "import string # to process standard python strings\n",
        "from sklearn.feature_extraction.text import TfidfVectorizer\n",
        "from sklearn.metrics.pairwise import cosine_similarity\n",
        "import random\n",
        "from wit import Wit\n",
        "nltk.download('punkt')"
      ],
      "execution_count": null,
      "outputs": [
        {
          "output_type": "stream",
          "text": [
            "[nltk_data] Downloading package punkt to /root/nltk_data...\n",
            "[nltk_data]   Package punkt is already up-to-date!\n"
          ],
          "name": "stdout"
        },
        {
          "output_type": "execute_result",
          "data": {
            "text/plain": [
              "True"
            ]
          },
          "metadata": {
            "tags": []
          },
          "execution_count": 2
        }
      ]
    },
    {
      "cell_type": "markdown",
      "metadata": {
        "id": "9sJSPKZM9Zc5",
        "colab_type": "text"
      },
      "source": [
        "## Retrieval based"
      ]
    },
    {
      "cell_type": "markdown",
      "metadata": {
        "id": "qYN6lqM1lC-X",
        "colab_type": "text"
      },
      "source": [
        "### Đọc văn bản"
      ]
    },
    {
      "cell_type": "code",
      "metadata": {
        "id": "k_nP2NChkEhz",
        "colab_type": "code",
        "colab": {}
      },
      "source": [
        "with open('./corpus_light.txt', 'r', encoding='utf-8') as file:\n",
        "  corpus = file.read()\n",
        "sentences_raw = corpus.split('\\n')"
      ],
      "execution_count": null,
      "outputs": []
    },
    {
      "cell_type": "code",
      "metadata": {
        "id": "bMeEy837mLFn",
        "colab_type": "code",
        "colab": {
          "base_uri": "https://localhost:8080/",
          "height": 207
        },
        "outputId": "5ad038e9-c795-49cf-d192-645dcf721b79"
      },
      "source": [
        "sentences_raw[:10]"
      ],
      "execution_count": null,
      "outputs": [
        {
          "output_type": "execute_result",
          "data": {
            "text/plain": [
              "['The Landmark 81 là một toà nhà chọc trời trong tổ hợp dự án Vinhomes Tân Cảng , một dự án có tổng mức đầu tư 40.000 tỷ đồng , do Công ty Cổ phần Đầu tư xây dựng Tân Liên Phát thuộc Vingroup làm chủ đầu tư . Toà tháp cao 81 tầng , hiện tại là toà nhà cao nhất Việt Nam và là toà nhà cao nhất Đông Nam Á từ tháng 3 năm 2018 .',\n",
              " 'Toà tháp cao 81 tầng , hiện tại là toà nhà cao nhất Việt Nam và là toà nhà cao nhất Đông Nam Á từ tháng 3 năm 2018 . Dự án được xây dựng ở Tân Cảng , quận Bình Thạnh , ven sông Sài Gòn . Dự án được khởi công ngày 26/07/2014 .',\n",
              " 'Đôi chân ngắn nhưng mạnh mẽ giúp Messi dễ dàng tăng tốc và sải chân nhanh giúp anh kiểm soát bóng tốt khi rê dắt ở tốc độ cao . Cựu huấn luyện viên Barcelona , Pep Guardiola , từng nhận xét rằng : \\\\\" Messi là cầu thủ duy nhất chạy với bóng còn nhanh hơn là chạy không bóng . \\\\\" Giống Maradona , Messi là một cầu thủ thuận chân trái .',\n",
              " 'Cựu huấn luyện viên Barcelona , Pep Guardiola , từng nhận xét rằng : \\\\\" Messi là cầu thủ duy nhất chạy với bóng còn nhanh hơn là chạy không bóng . \\\\\" Giống Maradona , Messi là một cầu thủ thuận chân trái . Anh thường sử dụng má ngoài chân trái khi giữ bóng , trong khi dùng má trong để dứt điểm , chuyền bóng và kiến tạo cho đồng đội .',\n",
              " 'Ngoài ra anh còn một chân sút phạt chính và hay đảm nhận các quả phạt đền của đội . Khi đề cập đến kĩ năng dắt bóng của anh , Maradona đã từng nói : \\\\\" Trái bóng dính chặt vào chân anh ấy ; Trong sự nghiệp của mình tôi đã xem nhiều cầu thủ xuất chúng chơi bóng nhưng không ai giữ bóng tốt như Messi . \\\\\" Maradona còn cho biết rằng ông tin Messi là cầu thủ xuất sắc nhất thế giới hiện tại .',\n",
              " 'Khi đề cập đến kĩ năng dắt bóng của anh , Maradona đã từng nói : \\\\\" Trái bóng dính chặt vào chân anh ấy ; Trong sự nghiệp của mình tôi đã xem nhiều cầu thủ xuất chúng chơi bóng nhưng không ai giữ bóng tốt như Messi . \\\\\" Maradona còn cho biết rằng ông tin Messi là cầu thủ xuất sắc nhất thế giới hiện tại .',\n",
              " 'Ngày 11 tháng 3 năm 2010 , Messi được chọn làm đại sứ thiện chí của UNICEF . Hoạt động đại sứ UNICEF của Messi nhằm hỗ trợ các quyền trẻ em . Messi cũng nhận được sự ủng hộ từ FC Barcelona , câu lạc bộ có mối liên hệ chặt chẽ với UNICEF .',\n",
              " 'Sao Hoả còn gọi là : Hoả Tinh , ( Tiếng Anh : Mars ) là hành tinh thứ tư tính từ Mặt Trời trong Thái Dương Hệ . Đôi khi hành tinh này còn được gọi tên là Hoả Tinh . Nó thường được gọi với tên khác là \\\\\" Hành tinh Đỏ \\\\\" , do sắt ôxít có mặt rất nhiều trên bề mặt hành tinh làm cho bề mặt nó hiện lên với màu đỏ đặc trưng .',\n",
              " 'Những bản đồ về Sao Hoả hiện nay đã được cung cấp trên một số dịch vụ trực tuyến , như Google Mars .',\n",
              " 'Sao Hoả trong ngôn ngữ phương Tây được mang tên của vị thần chiến tranh trong thần thoại . Từ hoả cũng là tên của một trong năm yếu tố của ngũ hành trong triết học cổ Trung Hoa . Biểu tượng Sao Hoả , gồm một vòng tròn với một mũi tên chỉ ra ngoài , cũng là biểu tượng cho giống đực .']"
            ]
          },
          "metadata": {
            "tags": []
          },
          "execution_count": 4
        }
      ]
    },
    {
      "cell_type": "markdown",
      "metadata": {
        "id": "aNrVYCgkmZV8",
        "colab_type": "text"
      },
      "source": [
        "### Biểu diễn văn bản dưới dạng vector\n",
        "Phương pháp đơn giản nhất là sử dụng Bag of Word (BoW) (Túi đựng Từ). BoW sẽ biểu diễn một văn bản dưới dạng một tập V các từ (V là toàn bộ từ trong từ điển) và bỏ qua các thông tin về trật tự của từ và ngữ pháp. Lấy ví dụ tập dữ liệu gồm 2 câu: \n",
        "\n",
        "- Bình thích xem phim. Linh cũng thích xem phim\n",
        "- Bình cũng thích xem đá bóng\n",
        "\n",
        "Dựa trên tập dữ liệu này, ta có thể xây dựng được tập từ điển gồm có các từ sau (bỏ qua việc viết hoa): {bình, linh, thích, xem, phim, cũng, đá, bóng}\n",
        "\n",
        "Hai câu trong tập dữ liệu sẽ được biểu diễn dưới dạng vector theo BoW như sau:\n",
        "\n",
        "- [1, 1, 2, 2, 2, 1, 0, 0]\n",
        "- [1, 0, 1, 1, 0, 1, 1, 1]"
      ]
    },
    {
      "cell_type": "markdown",
      "metadata": {
        "id": "wk1cr80uthA7",
        "colab_type": "text"
      },
      "source": [
        "### Chuẩn hoá lại văn bản\n",
        "\n",
        "- Chuyển sang dạng viết thường\n",
        "- Phân tách các ký tự đặc biệt"
      ]
    },
    {
      "cell_type": "code",
      "metadata": {
        "id": "KVxIwvSxtnHV",
        "colab_type": "code",
        "colab": {}
      },
      "source": [
        "def norm_sentences(sen):\n",
        "  sen = sen.lower()\n",
        "  sen = ' '.join(nltk.word_tokenize(sen))\n",
        "  return sen\n",
        "\n",
        "sentences = [norm_sentences(item) for item in sentences_raw]\n",
        "corpus = ' '.join(sentences)"
      ],
      "execution_count": null,
      "outputs": []
    },
    {
      "cell_type": "code",
      "metadata": {
        "id": "z8v8MxIMuBgW",
        "colab_type": "code",
        "colab": {
          "base_uri": "https://localhost:8080/",
          "height": 207
        },
        "outputId": "57773d15-1314-4dc7-cfff-33fe8efe0187"
      },
      "source": [
        "sentences[:10]"
      ],
      "execution_count": null,
      "outputs": [
        {
          "output_type": "execute_result",
          "data": {
            "text/plain": [
              "['the landmark 81 là một toà nhà chọc trời trong tổ hợp dự án vinhomes tân cảng , một dự án có tổng mức đầu tư 40.000 tỷ đồng , do công ty cổ phần đầu tư xây dựng tân liên phát thuộc vingroup làm chủ đầu tư . toà tháp cao 81 tầng , hiện tại là toà nhà cao nhất việt nam và là toà nhà cao nhất đông nam á từ tháng 3 năm 2018 .',\n",
              " 'toà tháp cao 81 tầng , hiện tại là toà nhà cao nhất việt nam và là toà nhà cao nhất đông nam á từ tháng 3 năm 2018 . dự án được xây dựng ở tân cảng , quận bình thạnh , ven sông sài gòn . dự án được khởi công ngày 26/07/2014 .',\n",
              " \"đôi chân ngắn nhưng mạnh mẽ giúp messi dễ dàng tăng tốc và sải chân nhanh giúp anh kiểm soát bóng tốt khi rê dắt ở tốc độ cao . cựu huấn luyện viên barcelona , pep guardiola , từng nhận xét rằng : \\\\ '' messi là cầu thủ duy nhất chạy với bóng còn nhanh hơn là chạy không bóng . \\\\ '' giống maradona , messi là một cầu thủ thuận chân trái .\",\n",
              " \"cựu huấn luyện viên barcelona , pep guardiola , từng nhận xét rằng : \\\\ '' messi là cầu thủ duy nhất chạy với bóng còn nhanh hơn là chạy không bóng . \\\\ '' giống maradona , messi là một cầu thủ thuận chân trái . anh thường sử dụng má ngoài chân trái khi giữ bóng , trong khi dùng má trong để dứt điểm , chuyền bóng và kiến tạo cho đồng đội .\",\n",
              " \"ngoài ra anh còn một chân sút phạt chính và hay đảm nhận các quả phạt đền của đội . khi đề cập đến kĩ năng dắt bóng của anh , maradona đã từng nói : \\\\ '' trái bóng dính chặt vào chân anh ấy ; trong sự nghiệp của mình tôi đã xem nhiều cầu thủ xuất chúng chơi bóng nhưng không ai giữ bóng tốt như messi . \\\\ '' maradona còn cho biết rằng ông tin messi là cầu thủ xuất sắc nhất thế giới hiện tại .\",\n",
              " \"khi đề cập đến kĩ năng dắt bóng của anh , maradona đã từng nói : \\\\ '' trái bóng dính chặt vào chân anh ấy ; trong sự nghiệp của mình tôi đã xem nhiều cầu thủ xuất chúng chơi bóng nhưng không ai giữ bóng tốt như messi . \\\\ '' maradona còn cho biết rằng ông tin messi là cầu thủ xuất sắc nhất thế giới hiện tại .\",\n",
              " 'ngày 11 tháng 3 năm 2010 , messi được chọn làm đại sứ thiện chí của unicef . hoạt động đại sứ unicef của messi nhằm hỗ trợ các quyền trẻ em . messi cũng nhận được sự ủng hộ từ fc barcelona , câu lạc bộ có mối liên hệ chặt chẽ với unicef .',\n",
              " \"sao hoả còn gọi là : hoả tinh , ( tiếng anh : mars ) là hành tinh thứ tư tính từ mặt trời trong thái dương hệ . đôi khi hành tinh này còn được gọi tên là hoả tinh . nó thường được gọi với tên khác là \\\\ '' hành tinh đỏ \\\\ '' , do sắt ôxít có mặt rất nhiều trên bề mặt hành tinh làm cho bề mặt nó hiện lên với màu đỏ đặc trưng .\",\n",
              " 'những bản đồ về sao hoả hiện nay đã được cung cấp trên một số dịch vụ trực tuyến , như google mars .',\n",
              " 'sao hoả trong ngôn ngữ phương tây được mang tên của vị thần chiến tranh trong thần thoại . từ hoả cũng là tên của một trong năm yếu tố của ngũ hành trong triết học cổ trung hoa . biểu tượng sao hoả , gồm một vòng tròn với một mũi tên chỉ ra ngoài , cũng là biểu tượng cho giống đực .']"
            ]
          },
          "metadata": {
            "tags": []
          },
          "execution_count": 6
        }
      ]
    },
    {
      "cell_type": "markdown",
      "metadata": {
        "id": "SD4tFHCGrUMC",
        "colab_type": "text"
      },
      "source": [
        "### Tạo từ điển\n",
        "Từ điển sẽ cho ta biết được danh sách các từ và mã đại diện của các từ đó"
      ]
    },
    {
      "cell_type": "code",
      "metadata": {
        "id": "Lfi9NfVOmNv7",
        "colab_type": "code",
        "colab": {}
      },
      "source": [
        "word_list = list(set(corpus.split()))\n",
        "dictionary = {word: index + 1 for index, word in enumerate(word_list)}"
      ],
      "execution_count": null,
      "outputs": []
    },
    {
      "cell_type": "code",
      "metadata": {
        "id": "Wm6l1FLNr6sV",
        "colab_type": "code",
        "colab": {
          "base_uri": "https://localhost:8080/",
          "height": 34
        },
        "outputId": "b0dd56e1-2559-4d7e-ec47-08cabf2aebc5"
      },
      "source": [
        "len(dictionary)"
      ],
      "execution_count": null,
      "outputs": [
        {
          "output_type": "execute_result",
          "data": {
            "text/plain": [
              "5129"
            ]
          },
          "metadata": {
            "tags": []
          },
          "execution_count": 8
        }
      ]
    },
    {
      "cell_type": "code",
      "metadata": {
        "id": "mFrjGbdir9O8",
        "colab_type": "code",
        "colab": {
          "base_uri": "https://localhost:8080/",
          "height": 34
        },
        "outputId": "e16ed184-2ff0-4015-9631-6ce066c61f34"
      },
      "source": [
        "dictionary.get('học', 0)"
      ],
      "execution_count": null,
      "outputs": [
        {
          "output_type": "execute_result",
          "data": {
            "text/plain": [
              "10"
            ]
          },
          "metadata": {
            "tags": []
          },
          "execution_count": 9
        }
      ]
    },
    {
      "cell_type": "markdown",
      "metadata": {
        "id": "xc1AxlzjvkAE",
        "colab_type": "text"
      },
      "source": [
        "### Tạo hàm biểu diễn câu dưới dạng vector sử dụng BoW"
      ]
    },
    {
      "cell_type": "code",
      "metadata": {
        "id": "fTR_c5nyvUQ1",
        "colab_type": "code",
        "colab": {}
      },
      "source": [
        "def representation_sentence(sen):\n",
        "  sen = norm_sentences(sen)\n",
        "  sen_vec = [0] * (len(dictionary) + 1)\n",
        "  for word in sen.split():\n",
        "    sen_vec[dictionary.get(word, 0)] += 1\n",
        "  return sen_vec"
      ],
      "execution_count": null,
      "outputs": []
    },
    {
      "cell_type": "code",
      "metadata": {
        "id": "VSITApUG3rQz",
        "colab_type": "code",
        "colab": {}
      },
      "source": [
        "sentences_vec = [representation_sentence(item) for item in sentences] "
      ],
      "execution_count": null,
      "outputs": []
    },
    {
      "cell_type": "markdown",
      "metadata": {
        "id": "b9lgc3B9ypZT",
        "colab_type": "text"
      },
      "source": [
        "### Tính độ tương đồng giữa hai vecctor\n",
        "\n",
        "Phương pháp: Cosine similarity. Đo khoảng cách giữa hai vector. Càng gần nhau giá trị cosine càng to"
      ]
    },
    {
      "cell_type": "code",
      "metadata": {
        "id": "xiFi2Akqyo7c",
        "colab_type": "code",
        "colab": {
          "base_uri": "https://localhost:8080/",
          "height": 68
        },
        "outputId": "589ea661-dbc7-4471-c8ed-aec9fe353174"
      },
      "source": [
        "sen_1 = \"Bình thích xem phim\"\n",
        "sen_2 = \"Linh cũng thích xem phim\"\n",
        "sen_3 = \"Bình học lập trình\"\n",
        "print(\"Khoảng cách sen_1, sen_2:\", cosine_similarity([representation_sentence(sen_1)], [representation_sentence(sen_2)]))\n",
        "print(\"Khoảng cách sen_1, sen_3:\", cosine_similarity([representation_sentence(sen_1)], [representation_sentence(sen_3)]))\n",
        "print(\"Khoảng cách sen_2, sen_3:\", cosine_similarity([representation_sentence(sen_2)], [representation_sentence(sen_3)]))"
      ],
      "execution_count": null,
      "outputs": [
        {
          "output_type": "stream",
          "text": [
            "Khoảng cách sen_1, sen_2: [[0.67082039]]\n",
            "Khoảng cách sen_1, sen_3: [[0.25]]\n",
            "Khoảng cách sen_2, sen_3: [[0.]]\n"
          ],
          "name": "stdout"
        }
      ]
    },
    {
      "cell_type": "markdown",
      "metadata": {
        "id": "rNcuNxXC5DRC",
        "colab_type": "text"
      },
      "source": [
        "#### Tạo hàm tìm câu có độ tương đồng cao nhất"
      ]
    },
    {
      "cell_type": "code",
      "metadata": {
        "id": "i_WWRriqw_JC",
        "colab_type": "code",
        "colab": {}
      },
      "source": [
        "def find_retrieval_response(input_sen):\n",
        "  similarity = cosine_similarity(sentences_vec, [representation_sentence(input_sen)]).squeeze()\n",
        "  max_index = similarity.argmax()\n",
        "  # print(similarity[max_index])\n",
        "  if similarity[max_index] < 0.3:\n",
        "    return None\n",
        "  else:\n",
        "    return sentences_raw[max_index]"
      ],
      "execution_count": null,
      "outputs": []
    },
    {
      "cell_type": "code",
      "metadata": {
        "id": "WVNgGTuy6HG-",
        "colab_type": "code",
        "colab": {
          "base_uri": "https://localhost:8080/",
          "height": 35
        },
        "outputId": "9fb5c91a-32ae-4b4f-f05c-03aa87e98878"
      },
      "source": [
        "find_retrieval_response(\"các dân tộc việt nam\")"
      ],
      "execution_count": null,
      "outputs": [
        {
          "output_type": "execute_result",
          "data": {
            "application/vnd.google.colaboratory.intrinsic+json": {
              "type": "string"
            },
            "text/plain": [
              "'Các dân tộc tại Việt Nam hay người Việt Nam là một danh từ chung để chỉ các dân tộc sống trên lãnh thổ Việt Nam .'"
            ]
          },
          "metadata": {
            "tags": []
          },
          "execution_count": 14
        }
      ]
    },
    {
      "cell_type": "markdown",
      "metadata": {
        "id": "WXLjNuHhArTB",
        "colab_type": "text"
      },
      "source": [
        "## Task oriented"
      ]
    },
    {
      "cell_type": "markdown",
      "metadata": {
        "id": "1M6HHdmNC9tp",
        "colab_type": "text"
      },
      "source": [
        "![picture](https://github.com/nguyenvulebinh/shecode20/blob/master/task_oriented_flow.png?raw=true)"
      ]
    },
    {
      "cell_type": "code",
      "metadata": {
        "id": "KaQOzMYZA6ZC",
        "colab_type": "code",
        "colab": {}
      },
      "source": [
        "client = Wit('B6QGNQA3EFUYMP4QGHPNL3UYNTE7CMQH')"
      ],
      "execution_count": null,
      "outputs": []
    },
    {
      "cell_type": "markdown",
      "metadata": {
        "id": "eh2D9dvfjZAS",
        "colab_type": "text"
      },
      "source": [
        "### Truy vấn intent của câu nói"
      ]
    },
    {
      "cell_type": "code",
      "metadata": {
        "id": "KAvaihg6iXAz",
        "colab_type": "code",
        "colab": {}
      },
      "source": [
        "def get_intent(input_sen):\n",
        "  nlu_result = client.message(input_sen)\n",
        "  if nlu_result.get('intents', None):\n",
        "    return nlu_result.get('intents', None)[0]['name']\n",
        "  else:\n",
        "    return None"
      ],
      "execution_count": null,
      "outputs": []
    },
    {
      "cell_type": "markdown",
      "metadata": {
        "id": "bsdgpBVckXzo",
        "colab_type": "text"
      },
      "source": [
        "### Định nghĩa câu trả lời"
      ]
    },
    {
      "cell_type": "code",
      "metadata": {
        "id": "lSAupxfHkXbi",
        "colab_type": "code",
        "colab": {}
      },
      "source": [
        "def find_oriented_response(input_sen):\n",
        "  intent_type = get_intent(input_sen)\n",
        "  if intent_type == 'thank':\n",
        "    return random.choice([':)', 'đây là nhiệm vụ của mình mà', 'ok bạn'])\n",
        "  elif intent_type == 'greeting':\n",
        "    return random.choice(['hello bạn', 'chào bạn', 'hi', 'hello'])\n",
        "  elif intent_type == 'ask_name':\n",
        "    return random.choice(['SheBeauty', 'Mình tên là SheBeauty', 'SheBeauty ạ'])\n",
        "  elif intent_type == 'goodbye':\n",
        "    return random.choice(['Hẹn gặp bạn lần sau nhé', 'Bye', \"Nói chuyện sau nhé\"])\n",
        "  else:\n",
        "    return None"
      ],
      "execution_count": null,
      "outputs": []
    },
    {
      "cell_type": "code",
      "metadata": {
        "id": "dvwyubYniby_",
        "colab_type": "code",
        "colab": {
          "base_uri": "https://localhost:8080/",
          "height": 35
        },
        "outputId": "6998fa20-24ea-41c9-84a6-4003930a736c"
      },
      "source": [
        "find_oriented_response('xin chào')"
      ],
      "execution_count": null,
      "outputs": [
        {
          "output_type": "execute_result",
          "data": {
            "application/vnd.google.colaboratory.intrinsic+json": {
              "type": "string"
            },
            "text/plain": [
              "'hello bạn'"
            ]
          },
          "metadata": {
            "tags": []
          },
          "execution_count": 18
        }
      ]
    },
    {
      "cell_type": "code",
      "metadata": {
        "id": "0t4UEhlJj-ZM",
        "colab_type": "code",
        "colab": {
          "base_uri": "https://localhost:8080/",
          "height": 35
        },
        "outputId": "b847d292-8946-457f-d85a-6f013012d280"
      },
      "source": [
        "find_oriented_response('cảm ơn')"
      ],
      "execution_count": null,
      "outputs": [
        {
          "output_type": "execute_result",
          "data": {
            "application/vnd.google.colaboratory.intrinsic+json": {
              "type": "string"
            },
            "text/plain": [
              "':)'"
            ]
          },
          "metadata": {
            "tags": []
          },
          "execution_count": 19
        }
      ]
    },
    {
      "cell_type": "code",
      "metadata": {
        "id": "3ueUOjummcos",
        "colab_type": "code",
        "colab": {
          "base_uri": "https://localhost:8080/",
          "height": 35
        },
        "outputId": "4d7c4be2-c8c9-45b2-b4e4-f6a86a89228d"
      },
      "source": [
        "find_oriented_response('tạm biệt')"
      ],
      "execution_count": null,
      "outputs": [
        {
          "output_type": "execute_result",
          "data": {
            "application/vnd.google.colaboratory.intrinsic+json": {
              "type": "string"
            },
            "text/plain": [
              "'Bye'"
            ]
          },
          "metadata": {
            "tags": []
          },
          "execution_count": 20
        }
      ]
    },
    {
      "cell_type": "code",
      "metadata": {
        "id": "_0E7zFiAmkIw",
        "colab_type": "code",
        "colab": {
          "base_uri": "https://localhost:8080/",
          "height": 35
        },
        "outputId": "f9c71f2b-0acb-4d9d-a9fb-b7bec646fb05"
      },
      "source": [
        "find_oriented_response('bạn tên gì?')"
      ],
      "execution_count": null,
      "outputs": [
        {
          "output_type": "execute_result",
          "data": {
            "application/vnd.google.colaboratory.intrinsic+json": {
              "type": "string"
            },
            "text/plain": [
              "'Mình tên là SheBeauty'"
            ]
          },
          "metadata": {
            "tags": []
          },
          "execution_count": 21
        }
      ]
    },
    {
      "cell_type": "markdown",
      "metadata": {
        "id": "z4_Rufx5mpJv",
        "colab_type": "text"
      },
      "source": [
        "## Ghép nối hệ thống các module để tạo chatbot hoàn chỉnh"
      ]
    },
    {
      "cell_type": "code",
      "metadata": {
        "id": "4Y6ts06FmnUV",
        "colab_type": "code",
        "colab": {
          "base_uri": "https://localhost:8080/",
          "height": 241
        },
        "outputId": "5aadfa4f-3f06-407c-89fe-001e91ee9ea5"
      },
      "source": [
        "while True:\n",
        "  user_input = input(\"You: \")\n",
        "  if user_input == \"quit\":\n",
        "    print(\"Bot: {}\".format(\"-_- bye\"))\n",
        "    break\n",
        "  # Tìm câu trả lời của task oriented\n",
        "  oriented_response = find_oriented_response(user_input)\n",
        "  if oriented_response:\n",
        "    print(\"Bot: {}\".format(oriented_response))\n",
        "  else:\n",
        "    # Tìm câu trả lời theo hướng retrieval\n",
        "    retrieval_response = find_retrieval_response(user_input)\n",
        "    if retrieval_response:\n",
        "      print(\"Bot: {}\".format(retrieval_response))\n",
        "    else:\n",
        "      print(\"Bot: {}\".format(\"Xin lỗi bạn mình không có câu trả lời!\"))\n"
      ],
      "execution_count": null,
      "outputs": [
        {
          "output_type": "stream",
          "text": [
            "You: Xin chào\n",
            "Bot: hello bạn\n",
            "You: Bạn tên gì thế?\n",
            "Bot: Mình tên là SheBeauty\n",
            "You: Sao Hoả là hành tinh thứ mấy trong Thái Dương Hệ ?\n",
            "Bot: Sao Hoả còn gọi là : Hoả Tinh , ( Tiếng Anh : Mars ) là hành tinh thứ tư tính từ Mặt Trời trong Thái Dương Hệ . Đôi khi hành tinh này còn được gọi tên là Hoả Tinh . Nó thường được gọi với tên khác là \\\" Hành tinh Đỏ \\\" , do sắt ôxít có mặt rất nhiều trên bề mặt hành tinh làm cho bề mặt nó hiện lên với màu đỏ đặc trưng .\n",
            "You: Oh! Cảm ơn bạn nhé!\n",
            "Bot: :)\n",
            "You: tạm biệt bạn\n",
            "Bot: Nói chuyện sau nhé\n",
            "You: quit\n",
            "Bot: -_- bye\n"
          ],
          "name": "stdout"
        }
      ]
    },
    {
      "cell_type": "code",
      "metadata": {
        "id": "ZcRKjO-zroRS",
        "colab_type": "code",
        "colab": {}
      },
      "source": [
        ""
      ],
      "execution_count": null,
      "outputs": []
    }
  ]
}